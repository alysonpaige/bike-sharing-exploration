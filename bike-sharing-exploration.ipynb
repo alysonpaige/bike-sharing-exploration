{
 "cells": [
  {
   "cell_type": "markdown",
   "metadata": {},
   "source": [
    "# GoBike Data Analysis\n",
    "\n",
    "## Project: Communicate Data Findings"
   ]
  },
  {
   "cell_type": "markdown",
   "metadata": {},
   "source": [
    "## Table of Contents\n",
    "<ul>\n",
    "<li><a href=\"#intro\">Introduction</a></li>\n",
    "<li><a href=\"#wrangling\">Data Wrangling</a></li>\n",
    "<li><a href=\"#exploratory\">Exploratory Data Analysis</a></li>\n",
    "<li><a href=\"#conclusions\">Conclusions</a></li>\n",
    "</ul>"
   ]
  },
  {
   "cell_type": "markdown",
   "metadata": {},
   "source": [
    "<a id='intro'></a>\n",
    "## Introduction\n",
    "\n",
    "This data set includes information about individual rides made in a bike-sharing system covering the greater San Francisco\n",
    "Bay area.\n",
    "\n",
    "Questions that will be explored in this dataset are:\n",
    "* What is the demographic of GoBikes userbase?\n",
    "* What is the most popular station to pick up and/or return a bike?\n",
    "* How long does the average trip take by gender?\n",
    "* When are most trips taken in terms of time of day and day of the week?\n",
    "* Does the above depend on if a user is a subscriber or customer?"
   ]
  },
  {
   "cell_type": "code",
   "execution_count": 1,
   "metadata": {},
   "outputs": [],
   "source": [
    "import pandas as pd\n",
    "pd.options.mode.chained_assignment = None\n",
    "import numpy as np\n",
    "import seaborn as sns\n",
    "import matplotlib.pyplot as plt\n",
    "\n",
    "%matplotlib inline"
   ]
  },
  {
   "cell_type": "markdown",
   "metadata": {},
   "source": [
    "<a id='wrangling'></a>\n",
    "## Data Wrangling"
   ]
  },
  {
   "cell_type": "code",
   "execution_count": 2,
   "metadata": {},
   "outputs": [
    {
     "data": {
      "text/html": [
       "<div>\n",
       "<style scoped>\n",
       "    .dataframe tbody tr th:only-of-type {\n",
       "        vertical-align: middle;\n",
       "    }\n",
       "\n",
       "    .dataframe tbody tr th {\n",
       "        vertical-align: top;\n",
       "    }\n",
       "\n",
       "    .dataframe thead th {\n",
       "        text-align: right;\n",
       "    }\n",
       "</style>\n",
       "<table border=\"1\" class=\"dataframe\">\n",
       "  <thead>\n",
       "    <tr style=\"text-align: right;\">\n",
       "      <th></th>\n",
       "      <th>duration_sec</th>\n",
       "      <th>start_time</th>\n",
       "      <th>end_time</th>\n",
       "      <th>start_station_id</th>\n",
       "      <th>start_station_name</th>\n",
       "      <th>start_station_latitude</th>\n",
       "      <th>start_station_longitude</th>\n",
       "      <th>end_station_id</th>\n",
       "      <th>end_station_name</th>\n",
       "      <th>end_station_latitude</th>\n",
       "      <th>end_station_longitude</th>\n",
       "      <th>bike_id</th>\n",
       "      <th>user_type</th>\n",
       "      <th>member_birth_year</th>\n",
       "      <th>member_gender</th>\n",
       "      <th>bike_share_for_all_trip</th>\n",
       "    </tr>\n",
       "  </thead>\n",
       "  <tbody>\n",
       "    <tr>\n",
       "      <th>0</th>\n",
       "      <td>52185</td>\n",
       "      <td>2019-02-28 17:32:10.1450</td>\n",
       "      <td>2019-03-01 08:01:55.9750</td>\n",
       "      <td>21.0</td>\n",
       "      <td>Montgomery St BART Station (Market St at 2nd St)</td>\n",
       "      <td>37.789625</td>\n",
       "      <td>-122.400811</td>\n",
       "      <td>13.0</td>\n",
       "      <td>Commercial St at Montgomery St</td>\n",
       "      <td>37.794231</td>\n",
       "      <td>-122.402923</td>\n",
       "      <td>4902</td>\n",
       "      <td>Customer</td>\n",
       "      <td>1984.0</td>\n",
       "      <td>Male</td>\n",
       "      <td>No</td>\n",
       "    </tr>\n",
       "    <tr>\n",
       "      <th>1</th>\n",
       "      <td>42521</td>\n",
       "      <td>2019-02-28 18:53:21.7890</td>\n",
       "      <td>2019-03-01 06:42:03.0560</td>\n",
       "      <td>23.0</td>\n",
       "      <td>The Embarcadero at Steuart St</td>\n",
       "      <td>37.791464</td>\n",
       "      <td>-122.391034</td>\n",
       "      <td>81.0</td>\n",
       "      <td>Berry St at 4th St</td>\n",
       "      <td>37.775880</td>\n",
       "      <td>-122.393170</td>\n",
       "      <td>2535</td>\n",
       "      <td>Customer</td>\n",
       "      <td>NaN</td>\n",
       "      <td>NaN</td>\n",
       "      <td>No</td>\n",
       "    </tr>\n",
       "  </tbody>\n",
       "</table>\n",
       "</div>"
      ],
      "text/plain": [
       "   duration_sec                start_time                  end_time  \\\n",
       "0         52185  2019-02-28 17:32:10.1450  2019-03-01 08:01:55.9750   \n",
       "1         42521  2019-02-28 18:53:21.7890  2019-03-01 06:42:03.0560   \n",
       "\n",
       "   start_station_id                                start_station_name  \\\n",
       "0              21.0  Montgomery St BART Station (Market St at 2nd St)   \n",
       "1              23.0                     The Embarcadero at Steuart St   \n",
       "\n",
       "   start_station_latitude  start_station_longitude  end_station_id  \\\n",
       "0               37.789625              -122.400811            13.0   \n",
       "1               37.791464              -122.391034            81.0   \n",
       "\n",
       "                 end_station_name  end_station_latitude  \\\n",
       "0  Commercial St at Montgomery St             37.794231   \n",
       "1              Berry St at 4th St             37.775880   \n",
       "\n",
       "   end_station_longitude  bike_id user_type  member_birth_year member_gender  \\\n",
       "0            -122.402923     4902  Customer             1984.0          Male   \n",
       "1            -122.393170     2535  Customer                NaN           NaN   \n",
       "\n",
       "  bike_share_for_all_trip  \n",
       "0                      No  \n",
       "1                      No  "
      ]
     },
     "execution_count": 2,
     "metadata": {},
     "output_type": "execute_result"
    }
   ],
   "source": [
    "# Read CSV as Pandas DataFrame\n",
    "bike = pd.read_csv('201902-fordgobike-tripdata.csv')\n",
    "bike.head(2)"
   ]
  },
  {
   "cell_type": "code",
   "execution_count": 3,
   "metadata": {},
   "outputs": [
    {
     "data": {
      "text/plain": [
       "(183412, 16)"
      ]
     },
     "execution_count": 3,
     "metadata": {},
     "output_type": "execute_result"
    }
   ],
   "source": [
    "# Check rows and columns\n",
    "bike.shape"
   ]
  },
  {
   "cell_type": "code",
   "execution_count": 4,
   "metadata": {},
   "outputs": [
    {
     "data": {
      "text/plain": [
       "duration_sec                 int64\n",
       "start_time                  object\n",
       "end_time                    object\n",
       "start_station_id           float64\n",
       "start_station_name          object\n",
       "start_station_latitude     float64\n",
       "start_station_longitude    float64\n",
       "end_station_id             float64\n",
       "end_station_name            object\n",
       "end_station_latitude       float64\n",
       "end_station_longitude      float64\n",
       "bike_id                      int64\n",
       "user_type                   object\n",
       "member_birth_year          float64\n",
       "member_gender               object\n",
       "bike_share_for_all_trip     object\n",
       "dtype: object"
      ]
     },
     "execution_count": 4,
     "metadata": {},
     "output_type": "execute_result"
    }
   ],
   "source": [
    "# Check datatypes\n",
    "bike.dtypes"
   ]
  },
  {
   "cell_type": "code",
   "execution_count": 5,
   "metadata": {},
   "outputs": [
    {
     "data": {
      "text/plain": [
       "duration_sec                  0\n",
       "start_time                    0\n",
       "end_time                      0\n",
       "start_station_id            197\n",
       "start_station_name          197\n",
       "start_station_latitude        0\n",
       "start_station_longitude       0\n",
       "end_station_id              197\n",
       "end_station_name            197\n",
       "end_station_latitude          0\n",
       "end_station_longitude         0\n",
       "bike_id                       0\n",
       "user_type                     0\n",
       "member_birth_year          8265\n",
       "member_gender              8265\n",
       "bike_share_for_all_trip       0\n",
       "dtype: int64"
      ]
     },
     "execution_count": 5,
     "metadata": {},
     "output_type": "execute_result"
    }
   ],
   "source": [
    "# Check missing values\n",
    "bike.isnull().sum()"
   ]
  },
  {
   "cell_type": "code",
   "execution_count": 6,
   "metadata": {},
   "outputs": [
    {
     "data": {
      "text/html": [
       "<div>\n",
       "<style scoped>\n",
       "    .dataframe tbody tr th:only-of-type {\n",
       "        vertical-align: middle;\n",
       "    }\n",
       "\n",
       "    .dataframe tbody tr th {\n",
       "        vertical-align: top;\n",
       "    }\n",
       "\n",
       "    .dataframe thead th {\n",
       "        text-align: right;\n",
       "    }\n",
       "</style>\n",
       "<table border=\"1\" class=\"dataframe\">\n",
       "  <thead>\n",
       "    <tr style=\"text-align: right;\">\n",
       "      <th></th>\n",
       "      <th>duration_sec</th>\n",
       "      <th>start_station_id</th>\n",
       "      <th>start_station_latitude</th>\n",
       "      <th>start_station_longitude</th>\n",
       "      <th>end_station_id</th>\n",
       "      <th>end_station_latitude</th>\n",
       "      <th>end_station_longitude</th>\n",
       "      <th>bike_id</th>\n",
       "      <th>member_birth_year</th>\n",
       "    </tr>\n",
       "  </thead>\n",
       "  <tbody>\n",
       "    <tr>\n",
       "      <th>count</th>\n",
       "      <td>183412.000000</td>\n",
       "      <td>183215.000000</td>\n",
       "      <td>183412.000000</td>\n",
       "      <td>183412.000000</td>\n",
       "      <td>183215.000000</td>\n",
       "      <td>183412.000000</td>\n",
       "      <td>183412.000000</td>\n",
       "      <td>183412.000000</td>\n",
       "      <td>175147.000000</td>\n",
       "    </tr>\n",
       "    <tr>\n",
       "      <th>mean</th>\n",
       "      <td>726.078435</td>\n",
       "      <td>138.590427</td>\n",
       "      <td>37.771223</td>\n",
       "      <td>-122.352664</td>\n",
       "      <td>136.249123</td>\n",
       "      <td>37.771427</td>\n",
       "      <td>-122.352250</td>\n",
       "      <td>4472.906375</td>\n",
       "      <td>1984.806437</td>\n",
       "    </tr>\n",
       "    <tr>\n",
       "      <th>std</th>\n",
       "      <td>1794.389780</td>\n",
       "      <td>111.778864</td>\n",
       "      <td>0.099581</td>\n",
       "      <td>0.117097</td>\n",
       "      <td>111.515131</td>\n",
       "      <td>0.099490</td>\n",
       "      <td>0.116673</td>\n",
       "      <td>1664.383394</td>\n",
       "      <td>10.116689</td>\n",
       "    </tr>\n",
       "    <tr>\n",
       "      <th>min</th>\n",
       "      <td>61.000000</td>\n",
       "      <td>3.000000</td>\n",
       "      <td>37.317298</td>\n",
       "      <td>-122.453704</td>\n",
       "      <td>3.000000</td>\n",
       "      <td>37.317298</td>\n",
       "      <td>-122.453704</td>\n",
       "      <td>11.000000</td>\n",
       "      <td>1878.000000</td>\n",
       "    </tr>\n",
       "    <tr>\n",
       "      <th>25%</th>\n",
       "      <td>325.000000</td>\n",
       "      <td>47.000000</td>\n",
       "      <td>37.770083</td>\n",
       "      <td>-122.412408</td>\n",
       "      <td>44.000000</td>\n",
       "      <td>37.770407</td>\n",
       "      <td>-122.411726</td>\n",
       "      <td>3777.000000</td>\n",
       "      <td>1980.000000</td>\n",
       "    </tr>\n",
       "    <tr>\n",
       "      <th>50%</th>\n",
       "      <td>514.000000</td>\n",
       "      <td>104.000000</td>\n",
       "      <td>37.780760</td>\n",
       "      <td>-122.398285</td>\n",
       "      <td>100.000000</td>\n",
       "      <td>37.781010</td>\n",
       "      <td>-122.398279</td>\n",
       "      <td>4958.000000</td>\n",
       "      <td>1987.000000</td>\n",
       "    </tr>\n",
       "    <tr>\n",
       "      <th>75%</th>\n",
       "      <td>796.000000</td>\n",
       "      <td>239.000000</td>\n",
       "      <td>37.797280</td>\n",
       "      <td>-122.286533</td>\n",
       "      <td>235.000000</td>\n",
       "      <td>37.797320</td>\n",
       "      <td>-122.288045</td>\n",
       "      <td>5502.000000</td>\n",
       "      <td>1992.000000</td>\n",
       "    </tr>\n",
       "    <tr>\n",
       "      <th>max</th>\n",
       "      <td>85444.000000</td>\n",
       "      <td>398.000000</td>\n",
       "      <td>37.880222</td>\n",
       "      <td>-121.874119</td>\n",
       "      <td>398.000000</td>\n",
       "      <td>37.880222</td>\n",
       "      <td>-121.874119</td>\n",
       "      <td>6645.000000</td>\n",
       "      <td>2001.000000</td>\n",
       "    </tr>\n",
       "  </tbody>\n",
       "</table>\n",
       "</div>"
      ],
      "text/plain": [
       "        duration_sec  start_station_id  start_station_latitude  \\\n",
       "count  183412.000000     183215.000000           183412.000000   \n",
       "mean      726.078435        138.590427               37.771223   \n",
       "std      1794.389780        111.778864                0.099581   \n",
       "min        61.000000          3.000000               37.317298   \n",
       "25%       325.000000         47.000000               37.770083   \n",
       "50%       514.000000        104.000000               37.780760   \n",
       "75%       796.000000        239.000000               37.797280   \n",
       "max     85444.000000        398.000000               37.880222   \n",
       "\n",
       "       start_station_longitude  end_station_id  end_station_latitude  \\\n",
       "count            183412.000000   183215.000000         183412.000000   \n",
       "mean               -122.352664      136.249123             37.771427   \n",
       "std                   0.117097      111.515131              0.099490   \n",
       "min                -122.453704        3.000000             37.317298   \n",
       "25%                -122.412408       44.000000             37.770407   \n",
       "50%                -122.398285      100.000000             37.781010   \n",
       "75%                -122.286533      235.000000             37.797320   \n",
       "max                -121.874119      398.000000             37.880222   \n",
       "\n",
       "       end_station_longitude        bike_id  member_birth_year  \n",
       "count          183412.000000  183412.000000      175147.000000  \n",
       "mean             -122.352250    4472.906375        1984.806437  \n",
       "std                 0.116673    1664.383394          10.116689  \n",
       "min              -122.453704      11.000000        1878.000000  \n",
       "25%              -122.411726    3777.000000        1980.000000  \n",
       "50%              -122.398279    4958.000000        1987.000000  \n",
       "75%              -122.288045    5502.000000        1992.000000  \n",
       "max              -121.874119    6645.000000        2001.000000  "
      ]
     },
     "execution_count": 6,
     "metadata": {},
     "output_type": "execute_result"
    }
   ],
   "source": [
    "bike.describe()"
   ]
  },
  {
   "cell_type": "markdown",
   "metadata": {},
   "source": [
    "#### NOTE\n",
    "\n",
    "There are several issues with this dataset. There are null values, datatype discrepancies, and other extraneous information that is not needed for this analysis. The main features of interest in this dataset will be times, and user and station information."
   ]
  },
  {
   "cell_type": "markdown",
   "metadata": {},
   "source": [
    "#### Data Quality and Tidiness Issues\n",
    "* Remove latitude and other columns that are not useful\n",
    "* Drop rows with missing values in six (6) columns: `start_station_id`, `start_station_name`, `end_station_id`, `end_station_name`, `member_birth_year`, and `member_gender`\n",
    "* Datatypes of `start_time` and `end_time` are not correct\n",
    "* `duration_sec` column needs to be converted to minutes\n",
    "* Convert `member_birth_year` to age"
   ]
  },
  {
   "cell_type": "markdown",
   "metadata": {},
   "source": [
    "### Clean"
   ]
  },
  {
   "cell_type": "code",
   "execution_count": 7,
   "metadata": {},
   "outputs": [
    {
     "name": "stdout",
     "output_type": "stream",
     "text": [
      "(183412, 11)\n"
     ]
    },
    {
     "data": {
      "text/html": [
       "<div>\n",
       "<style scoped>\n",
       "    .dataframe tbody tr th:only-of-type {\n",
       "        vertical-align: middle;\n",
       "    }\n",
       "\n",
       "    .dataframe tbody tr th {\n",
       "        vertical-align: top;\n",
       "    }\n",
       "\n",
       "    .dataframe thead th {\n",
       "        text-align: right;\n",
       "    }\n",
       "</style>\n",
       "<table border=\"1\" class=\"dataframe\">\n",
       "  <thead>\n",
       "    <tr style=\"text-align: right;\">\n",
       "      <th></th>\n",
       "      <th>duration_sec</th>\n",
       "      <th>start_time</th>\n",
       "      <th>end_time</th>\n",
       "      <th>start_station_id</th>\n",
       "      <th>start_station_name</th>\n",
       "      <th>end_station_id</th>\n",
       "      <th>end_station_name</th>\n",
       "      <th>bike_id</th>\n",
       "      <th>user_type</th>\n",
       "      <th>member_birth_year</th>\n",
       "      <th>member_gender</th>\n",
       "    </tr>\n",
       "  </thead>\n",
       "  <tbody>\n",
       "    <tr>\n",
       "      <th>0</th>\n",
       "      <td>52185</td>\n",
       "      <td>2019-02-28 17:32:10.1450</td>\n",
       "      <td>2019-03-01 08:01:55.9750</td>\n",
       "      <td>21.0</td>\n",
       "      <td>Montgomery St BART Station (Market St at 2nd St)</td>\n",
       "      <td>13.0</td>\n",
       "      <td>Commercial St at Montgomery St</td>\n",
       "      <td>4902</td>\n",
       "      <td>Customer</td>\n",
       "      <td>1984.0</td>\n",
       "      <td>Male</td>\n",
       "    </tr>\n",
       "  </tbody>\n",
       "</table>\n",
       "</div>"
      ],
      "text/plain": [
       "   duration_sec                start_time                  end_time  \\\n",
       "0         52185  2019-02-28 17:32:10.1450  2019-03-01 08:01:55.9750   \n",
       "\n",
       "   start_station_id                                start_station_name  \\\n",
       "0              21.0  Montgomery St BART Station (Market St at 2nd St)   \n",
       "\n",
       "   end_station_id                end_station_name  bike_id user_type  \\\n",
       "0            13.0  Commercial St at Montgomery St     4902  Customer   \n",
       "\n",
       "   member_birth_year member_gender  \n",
       "0             1984.0          Male  "
      ]
     },
     "execution_count": 7,
     "metadata": {},
     "output_type": "execute_result"
    }
   ],
   "source": [
    "# Clean columns and drop extraneous columns\n",
    "bike = bike[['duration_sec', 'start_time', 'end_time', 'start_station_id', 'start_station_name', 'end_station_id', 'end_station_name', 'bike_id', 'user_type', 'member_birth_year', 'member_gender']]\n",
    "print(bike.shape)\n",
    "bike.head(1)"
   ]
  },
  {
   "cell_type": "code",
   "execution_count": 8,
   "metadata": {},
   "outputs": [],
   "source": [
    "# Drop missing values\n",
    "bike.dropna(inplace=True)"
   ]
  },
  {
   "cell_type": "code",
   "execution_count": 9,
   "metadata": {},
   "outputs": [
    {
     "data": {
      "text/plain": [
       "duration_sec          0\n",
       "start_time            0\n",
       "end_time              0\n",
       "start_station_id      0\n",
       "start_station_name    0\n",
       "end_station_id        0\n",
       "end_station_name      0\n",
       "bike_id               0\n",
       "user_type             0\n",
       "member_birth_year     0\n",
       "member_gender         0\n",
       "dtype: int64"
      ]
     },
     "execution_count": 9,
     "metadata": {},
     "output_type": "execute_result"
    }
   ],
   "source": [
    "# Confirm\n",
    "bike.isnull().sum()"
   ]
  },
  {
   "cell_type": "code",
   "execution_count": 10,
   "metadata": {},
   "outputs": [],
   "source": [
    "# Convert datatypes of two (2) columns via to_datetime\n",
    "bike.start_time = pd.to_datetime(bike.start_time)\n",
    "bike.end_time = pd.to_datetime(bike.end_time)"
   ]
  },
  {
   "cell_type": "code",
   "execution_count": 11,
   "metadata": {},
   "outputs": [
    {
     "data": {
      "text/plain": [
       "duration_sec                   int64\n",
       "start_time            datetime64[ns]\n",
       "end_time              datetime64[ns]\n",
       "start_station_id             float64\n",
       "start_station_name            object\n",
       "end_station_id               float64\n",
       "end_station_name              object\n",
       "bike_id                        int64\n",
       "user_type                     object\n",
       "member_birth_year            float64\n",
       "member_gender                 object\n",
       "dtype: object"
      ]
     },
     "execution_count": 11,
     "metadata": {},
     "output_type": "execute_result"
    }
   ],
   "source": [
    "# Confirm\n",
    "bike.dtypes"
   ]
  },
  {
   "cell_type": "code",
   "execution_count": 12,
   "metadata": {},
   "outputs": [],
   "source": [
    "# Create new column `duration_mins` calculated from `duration_sec`\n",
    "bike['duration_mins'] = bike['duration_sec']/60"
   ]
  },
  {
   "cell_type": "code",
   "execution_count": 13,
   "metadata": {},
   "outputs": [],
   "source": [
    "# Convert datatype of new column to integer\n",
    "bike.duration_mins = bike.duration_mins.astype(int)"
   ]
  },
  {
   "cell_type": "code",
   "execution_count": 14,
   "metadata": {},
   "outputs": [],
   "source": [
    "# Delete original `duration_sec` column\n",
    "bike.drop(['duration_sec'], axis=1, inplace=True)"
   ]
  },
  {
   "cell_type": "code",
   "execution_count": 15,
   "metadata": {},
   "outputs": [
    {
     "data": {
      "text/html": [
       "<div>\n",
       "<style scoped>\n",
       "    .dataframe tbody tr th:only-of-type {\n",
       "        vertical-align: middle;\n",
       "    }\n",
       "\n",
       "    .dataframe tbody tr th {\n",
       "        vertical-align: top;\n",
       "    }\n",
       "\n",
       "    .dataframe thead th {\n",
       "        text-align: right;\n",
       "    }\n",
       "</style>\n",
       "<table border=\"1\" class=\"dataframe\">\n",
       "  <thead>\n",
       "    <tr style=\"text-align: right;\">\n",
       "      <th></th>\n",
       "      <th>start_time</th>\n",
       "      <th>end_time</th>\n",
       "      <th>start_station_id</th>\n",
       "      <th>start_station_name</th>\n",
       "      <th>end_station_id</th>\n",
       "      <th>end_station_name</th>\n",
       "      <th>bike_id</th>\n",
       "      <th>user_type</th>\n",
       "      <th>member_birth_year</th>\n",
       "      <th>member_gender</th>\n",
       "      <th>duration_mins</th>\n",
       "    </tr>\n",
       "  </thead>\n",
       "  <tbody>\n",
       "    <tr>\n",
       "      <th>0</th>\n",
       "      <td>2019-02-28 17:32:10.145</td>\n",
       "      <td>2019-03-01 08:01:55.975</td>\n",
       "      <td>21.0</td>\n",
       "      <td>Montgomery St BART Station (Market St at 2nd St)</td>\n",
       "      <td>13.0</td>\n",
       "      <td>Commercial St at Montgomery St</td>\n",
       "      <td>4902</td>\n",
       "      <td>Customer</td>\n",
       "      <td>1984.0</td>\n",
       "      <td>Male</td>\n",
       "      <td>869</td>\n",
       "    </tr>\n",
       "    <tr>\n",
       "      <th>2</th>\n",
       "      <td>2019-02-28 12:13:13.218</td>\n",
       "      <td>2019-03-01 05:24:08.146</td>\n",
       "      <td>86.0</td>\n",
       "      <td>Market St at Dolores St</td>\n",
       "      <td>3.0</td>\n",
       "      <td>Powell St BART Station (Market St at 4th St)</td>\n",
       "      <td>5905</td>\n",
       "      <td>Customer</td>\n",
       "      <td>1972.0</td>\n",
       "      <td>Male</td>\n",
       "      <td>1030</td>\n",
       "    </tr>\n",
       "    <tr>\n",
       "      <th>3</th>\n",
       "      <td>2019-02-28 17:54:26.010</td>\n",
       "      <td>2019-03-01 04:02:36.842</td>\n",
       "      <td>375.0</td>\n",
       "      <td>Grove St at Masonic Ave</td>\n",
       "      <td>70.0</td>\n",
       "      <td>Central Ave at Fell St</td>\n",
       "      <td>6638</td>\n",
       "      <td>Subscriber</td>\n",
       "      <td>1989.0</td>\n",
       "      <td>Other</td>\n",
       "      <td>608</td>\n",
       "    </tr>\n",
       "  </tbody>\n",
       "</table>\n",
       "</div>"
      ],
      "text/plain": [
       "               start_time                end_time  start_station_id  \\\n",
       "0 2019-02-28 17:32:10.145 2019-03-01 08:01:55.975              21.0   \n",
       "2 2019-02-28 12:13:13.218 2019-03-01 05:24:08.146              86.0   \n",
       "3 2019-02-28 17:54:26.010 2019-03-01 04:02:36.842             375.0   \n",
       "\n",
       "                                 start_station_name  end_station_id  \\\n",
       "0  Montgomery St BART Station (Market St at 2nd St)            13.0   \n",
       "2                           Market St at Dolores St             3.0   \n",
       "3                           Grove St at Masonic Ave            70.0   \n",
       "\n",
       "                               end_station_name  bike_id   user_type  \\\n",
       "0                Commercial St at Montgomery St     4902    Customer   \n",
       "2  Powell St BART Station (Market St at 4th St)     5905    Customer   \n",
       "3                        Central Ave at Fell St     6638  Subscriber   \n",
       "\n",
       "   member_birth_year member_gender  duration_mins  \n",
       "0             1984.0          Male            869  \n",
       "2             1972.0          Male           1030  \n",
       "3             1989.0         Other            608  "
      ]
     },
     "execution_count": 15,
     "metadata": {},
     "output_type": "execute_result"
    }
   ],
   "source": [
    "# Confirm\n",
    "bike.head(3)"
   ]
  },
  {
   "cell_type": "code",
   "execution_count": 16,
   "metadata": {},
   "outputs": [],
   "source": [
    "# Pull year from start_time\n",
    "bike['year'] = bike['start_time'].dt.year"
   ]
  },
  {
   "cell_type": "code",
   "execution_count": 17,
   "metadata": {},
   "outputs": [],
   "source": [
    "# Convert `member_birth_year` to age\n",
    "bike['member_age'] = bike['year'] - bike['member_birth_year']"
   ]
  },
  {
   "cell_type": "code",
   "execution_count": 18,
   "metadata": {},
   "outputs": [
    {
     "data": {
      "text/html": [
       "<div>\n",
       "<style scoped>\n",
       "    .dataframe tbody tr th:only-of-type {\n",
       "        vertical-align: middle;\n",
       "    }\n",
       "\n",
       "    .dataframe tbody tr th {\n",
       "        vertical-align: top;\n",
       "    }\n",
       "\n",
       "    .dataframe thead th {\n",
       "        text-align: right;\n",
       "    }\n",
       "</style>\n",
       "<table border=\"1\" class=\"dataframe\">\n",
       "  <thead>\n",
       "    <tr style=\"text-align: right;\">\n",
       "      <th></th>\n",
       "      <th>start_time</th>\n",
       "      <th>end_time</th>\n",
       "      <th>start_station_id</th>\n",
       "      <th>start_station_name</th>\n",
       "      <th>end_station_id</th>\n",
       "      <th>end_station_name</th>\n",
       "      <th>bike_id</th>\n",
       "      <th>user_type</th>\n",
       "      <th>member_birth_year</th>\n",
       "      <th>member_gender</th>\n",
       "      <th>duration_mins</th>\n",
       "      <th>year</th>\n",
       "      <th>member_age</th>\n",
       "    </tr>\n",
       "  </thead>\n",
       "  <tbody>\n",
       "    <tr>\n",
       "      <th>0</th>\n",
       "      <td>2019-02-28 17:32:10.145</td>\n",
       "      <td>2019-03-01 08:01:55.975</td>\n",
       "      <td>21.0</td>\n",
       "      <td>Montgomery St BART Station (Market St at 2nd St)</td>\n",
       "      <td>13.0</td>\n",
       "      <td>Commercial St at Montgomery St</td>\n",
       "      <td>4902</td>\n",
       "      <td>Customer</td>\n",
       "      <td>1984.0</td>\n",
       "      <td>Male</td>\n",
       "      <td>869</td>\n",
       "      <td>2019</td>\n",
       "      <td>35.0</td>\n",
       "    </tr>\n",
       "    <tr>\n",
       "      <th>2</th>\n",
       "      <td>2019-02-28 12:13:13.218</td>\n",
       "      <td>2019-03-01 05:24:08.146</td>\n",
       "      <td>86.0</td>\n",
       "      <td>Market St at Dolores St</td>\n",
       "      <td>3.0</td>\n",
       "      <td>Powell St BART Station (Market St at 4th St)</td>\n",
       "      <td>5905</td>\n",
       "      <td>Customer</td>\n",
       "      <td>1972.0</td>\n",
       "      <td>Male</td>\n",
       "      <td>1030</td>\n",
       "      <td>2019</td>\n",
       "      <td>47.0</td>\n",
       "    </tr>\n",
       "    <tr>\n",
       "      <th>3</th>\n",
       "      <td>2019-02-28 17:54:26.010</td>\n",
       "      <td>2019-03-01 04:02:36.842</td>\n",
       "      <td>375.0</td>\n",
       "      <td>Grove St at Masonic Ave</td>\n",
       "      <td>70.0</td>\n",
       "      <td>Central Ave at Fell St</td>\n",
       "      <td>6638</td>\n",
       "      <td>Subscriber</td>\n",
       "      <td>1989.0</td>\n",
       "      <td>Other</td>\n",
       "      <td>608</td>\n",
       "      <td>2019</td>\n",
       "      <td>30.0</td>\n",
       "    </tr>\n",
       "  </tbody>\n",
       "</table>\n",
       "</div>"
      ],
      "text/plain": [
       "               start_time                end_time  start_station_id  \\\n",
       "0 2019-02-28 17:32:10.145 2019-03-01 08:01:55.975              21.0   \n",
       "2 2019-02-28 12:13:13.218 2019-03-01 05:24:08.146              86.0   \n",
       "3 2019-02-28 17:54:26.010 2019-03-01 04:02:36.842             375.0   \n",
       "\n",
       "                                 start_station_name  end_station_id  \\\n",
       "0  Montgomery St BART Station (Market St at 2nd St)            13.0   \n",
       "2                           Market St at Dolores St             3.0   \n",
       "3                           Grove St at Masonic Ave            70.0   \n",
       "\n",
       "                               end_station_name  bike_id   user_type  \\\n",
       "0                Commercial St at Montgomery St     4902    Customer   \n",
       "2  Powell St BART Station (Market St at 4th St)     5905    Customer   \n",
       "3                        Central Ave at Fell St     6638  Subscriber   \n",
       "\n",
       "   member_birth_year member_gender  duration_mins  year  member_age  \n",
       "0             1984.0          Male            869  2019        35.0  \n",
       "2             1972.0          Male           1030  2019        47.0  \n",
       "3             1989.0         Other            608  2019        30.0  "
      ]
     },
     "execution_count": 18,
     "metadata": {},
     "output_type": "execute_result"
    }
   ],
   "source": [
    "# Confirm\n",
    "bike.head(3)"
   ]
  },
  {
   "cell_type": "markdown",
   "metadata": {},
   "source": [
    "<a id='exploratory'></a>\n",
    "## Exploratory Data Analysis"
   ]
  },
  {
   "cell_type": "markdown",
   "metadata": {},
   "source": [
    "### Univariate Exploration\n",
    "Investigate distributions of individual variables."
   ]
  },
  {
   "cell_type": "markdown",
   "metadata": {},
   "source": [
    "#### What is the demographic of GoBikes userbase?"
   ]
  },
  {
   "cell_type": "markdown",
   "metadata": {},
   "source": [
    "#### Gender"
   ]
  },
  {
   "cell_type": "code",
   "execution_count": 19,
   "metadata": {},
   "outputs": [
    {
     "data": {
      "image/png": "[encoded data removed]",
      "text/plain": [
       "<Figure size 432x288 with 1 Axes>"
      ]
     },
     "metadata": {
      "needs_background": "light"
     },
     "output_type": "display_data"
    }
   ],
   "source": [
    "# Gender distribution\n",
    "bike['member_gender'].value_counts(normalize=True).plot.bar()\n",
    "plt.xlabel('Gender')\n",
    "plt.ylabel('Proportion %')\n",
    "plt.xticks(rotation = 0, ha = 'center')\n",
    "plt.title(\"GoBike Users Gender Distribution\");"
   ]
  },
  {
   "cell_type": "code",
   "execution_count": 20,
   "metadata": {},
   "outputs": [
    {
     "data": {
      "text/plain": [
       "Male      74.591888\n",
       "Female    23.323540\n",
       "Other      2.084572\n",
       "Name: member_gender, dtype: float64"
      ]
     },
     "execution_count": 20,
     "metadata": {},
     "output_type": "execute_result"
    }
   ],
   "source": [
    "bike['member_gender'].value_counts(normalize=True) * 100"
   ]
  },
  {
   "cell_type": "markdown",
   "metadata": {},
   "source": [
    "Males account for the majority of GoBike's total users. 74.6% of GoBike users are male. 23.3% of users are female. The remaining 2.1% are not identified."
   ]
  },
  {
   "cell_type": "markdown",
   "metadata": {},
   "source": [
    "#### Age"
   ]
  },
  {
   "cell_type": "code",
   "execution_count": 21,
   "metadata": {},
   "outputs": [],
   "source": [
    "# Create bins for age groups\n",
    "bins = [18,35,55,75]\n",
    "bike['age_group'] = pd.cut(bike.member_age, bins, labels=['18-35','36-55','56-75'])"
   ]
  },
  {
   "cell_type": "code",
   "execution_count": 22,
   "metadata": {},
   "outputs": [
    {
     "data": {
      "text/html": [
       "<div>\n",
       "<style scoped>\n",
       "    .dataframe tbody tr th:only-of-type {\n",
       "        vertical-align: middle;\n",
       "    }\n",
       "\n",
       "    .dataframe tbody tr th {\n",
       "        vertical-align: top;\n",
       "    }\n",
       "\n",
       "    .dataframe thead th {\n",
       "        text-align: right;\n",
       "    }\n",
       "</style>\n",
       "<table border=\"1\" class=\"dataframe\">\n",
       "  <thead>\n",
       "    <tr style=\"text-align: right;\">\n",
       "      <th></th>\n",
       "      <th>start_time</th>\n",
       "      <th>end_time</th>\n",
       "      <th>start_station_id</th>\n",
       "      <th>start_station_name</th>\n",
       "      <th>end_station_id</th>\n",
       "      <th>end_station_name</th>\n",
       "      <th>bike_id</th>\n",
       "      <th>user_type</th>\n",
       "      <th>member_birth_year</th>\n",
       "      <th>member_gender</th>\n",
       "      <th>duration_mins</th>\n",
       "      <th>year</th>\n",
       "      <th>member_age</th>\n",
       "      <th>age_group</th>\n",
       "    </tr>\n",
       "  </thead>\n",
       "  <tbody>\n",
       "    <tr>\n",
       "      <th>0</th>\n",
       "      <td>2019-02-28 17:32:10.145</td>\n",
       "      <td>2019-03-01 08:01:55.975</td>\n",
       "      <td>21.0</td>\n",
       "      <td>Montgomery St BART Station (Market St at 2nd St)</td>\n",
       "      <td>13.0</td>\n",
       "      <td>Commercial St at Montgomery St</td>\n",
       "      <td>4902</td>\n",
       "      <td>Customer</td>\n",
       "      <td>1984.0</td>\n",
       "      <td>Male</td>\n",
       "      <td>869</td>\n",
       "      <td>2019</td>\n",
       "      <td>35.0</td>\n",
       "      <td>18-35</td>\n",
       "    </tr>\n",
       "    <tr>\n",
       "      <th>2</th>\n",
       "      <td>2019-02-28 12:13:13.218</td>\n",
       "      <td>2019-03-01 05:24:08.146</td>\n",
       "      <td>86.0</td>\n",
       "      <td>Market St at Dolores St</td>\n",
       "      <td>3.0</td>\n",
       "      <td>Powell St BART Station (Market St at 4th St)</td>\n",
       "      <td>5905</td>\n",
       "      <td>Customer</td>\n",
       "      <td>1972.0</td>\n",
       "      <td>Male</td>\n",
       "      <td>1030</td>\n",
       "      <td>2019</td>\n",
       "      <td>47.0</td>\n",
       "      <td>36-55</td>\n",
       "    </tr>\n",
       "    <tr>\n",
       "      <th>3</th>\n",
       "      <td>2019-02-28 17:54:26.010</td>\n",
       "      <td>2019-03-01 04:02:36.842</td>\n",
       "      <td>375.0</td>\n",
       "      <td>Grove St at Masonic Ave</td>\n",
       "      <td>70.0</td>\n",
       "      <td>Central Ave at Fell St</td>\n",
       "      <td>6638</td>\n",
       "      <td>Subscriber</td>\n",
       "      <td>1989.0</td>\n",
       "      <td>Other</td>\n",
       "      <td>608</td>\n",
       "      <td>2019</td>\n",
       "      <td>30.0</td>\n",
       "      <td>18-35</td>\n",
       "    </tr>\n",
       "  </tbody>\n",
       "</table>\n",
       "</div>"
      ],
      "text/plain": [
       "               start_time                end_time  start_station_id  \\\n",
       "0 2019-02-28 17:32:10.145 2019-03-01 08:01:55.975              21.0   \n",
       "2 2019-02-28 12:13:13.218 2019-03-01 05:24:08.146              86.0   \n",
       "3 2019-02-28 17:54:26.010 2019-03-01 04:02:36.842             375.0   \n",
       "\n",
       "                                 start_station_name  end_station_id  \\\n",
       "0  Montgomery St BART Station (Market St at 2nd St)            13.0   \n",
       "2                           Market St at Dolores St             3.0   \n",
       "3                           Grove St at Masonic Ave            70.0   \n",
       "\n",
       "                               end_station_name  bike_id   user_type  \\\n",
       "0                Commercial St at Montgomery St     4902    Customer   \n",
       "2  Powell St BART Station (Market St at 4th St)     5905    Customer   \n",
       "3                        Central Ave at Fell St     6638  Subscriber   \n",
       "\n",
       "   member_birth_year member_gender  duration_mins  year  member_age age_group  \n",
       "0             1984.0          Male            869  2019        35.0     18-35  \n",
       "2             1972.0          Male           1030  2019        47.0     36-55  \n",
       "3             1989.0         Other            608  2019        30.0     18-35  "
      ]
     },
     "execution_count": 22,
     "metadata": {},
     "output_type": "execute_result"
    }
   ],
   "source": [
    "# Confirm\n",
    "bike.head(3)"
   ]
  },
  {
   "cell_type": "code",
   "execution_count": 23,
   "metadata": {},
   "outputs": [
    {
     "data": {
      "image/png": "[encoded data removed]",
      "text/plain": [
       "<Figure size 432x288 with 1 Axes>"
      ]
     },
     "metadata": {
      "needs_background": "light"
     },
     "output_type": "display_data"
    }
   ],
   "source": [
    "# Create bar chart\n",
    "bike['age_group'].value_counts().plot.bar();\n",
    "plt.title(\"Age groups of GoBike userbase\")\n",
    "plt.xlabel('Age Groups')\n",
    "plt.ylabel('Proportion')\n",
    "plt.xticks(rotation = 0, ha = 'center');"
   ]
  },
  {
   "cell_type": "code",
   "execution_count": 24,
   "metadata": {},
   "outputs": [
    {
     "data": {
      "text/plain": [
       "18-35    65.265810\n",
       "36-55    30.369013\n",
       "56-75     4.365177\n",
       "Name: age_group, dtype: float64"
      ]
     },
     "execution_count": 24,
     "metadata": {},
     "output_type": "execute_result"
    }
   ],
   "source": [
    "bike['age_group'].value_counts(normalize=True) * 100"
   ]
  },
  {
   "cell_type": "markdown",
   "metadata": {},
   "source": [
    "Over 100,000, or 65.2%, of GoBike users are in the age group of 18-35."
   ]
  },
  {
   "cell_type": "markdown",
   "metadata": {},
   "source": [
    "#### What is the most popular station to pick up and/or return a bike?"
   ]
  },
  {
   "cell_type": "markdown",
   "metadata": {},
   "source": [
    "#### Most Popular Station to Start Trip"
   ]
  },
  {
   "cell_type": "code",
   "execution_count": 25,
   "metadata": {},
   "outputs": [
    {
     "data": {
      "text/plain": [
       "array(['Montgomery St BART Station (Market St at 2nd St)',\n",
       "       'Market St at Dolores St', 'Grove St at Masonic Ave',\n",
       "       'Frank H Ogawa Plaza', '4th St at Mission Bay Blvd S',\n",
       "       'Palm St at Willow St', 'Washington St at Kearny St',\n",
       "       'Post St at Kearny St', 'Jones St at Post St',\n",
       "       'Civic Center/UN Plaza BART Station (Market St at McAllister St)',\n",
       "       'Valencia St at 21st St', 'Bancroft Way at College Ave',\n",
       "       'Howard St at Mary St', '22nd St at Dolores St',\n",
       "       'Laguna St at Hayes St', '5th St at Folsom',\n",
       "       'Telegraph Ave at 23rd St', 'Page St at Scott St',\n",
       "       'Lake Merritt BART Station', 'West St at 40th St',\n",
       "       'The Embarcadero at Sansome St', 'Folsom St at 9th St',\n",
       "       'University Ave at Oxford St', 'MLK Jr Way at University Ave',\n",
       "       'The Embarcadero at Bryant St', '17th St at Valencia St',\n",
       "       'Valencia St at 16th St', 'Valencia St at 22nd St',\n",
       "       'Franklin Square', 'San Pablo Ave at MLK Jr Way',\n",
       "       '19th St at Mission St', 'Market St at 10th St',\n",
       "       'Folsom St at 13th St',\n",
       "       'San Francisco Ferry Building (Harry Bridges Plaza)',\n",
       "       '4th St at 16th St', 'Beale St at Harrison St',\n",
       "       'Broadway at Battery St', 'Cesar Chavez St at Dolores St',\n",
       "       'San Fernando St at 4th St', 'Grove St at Divisadero',\n",
       "       'Sanchez St at 17th St', 'Harmon St at Adeline St',\n",
       "       'Mission Playground', 'Davis St at Jackson St',\n",
       "       'Haste St at Telegraph Ave', 'Howard St at 8th St',\n",
       "       'Folsom St at 3rd St', 'Father Alfred E Boeddeker Park',\n",
       "       'Hubbell St at 16th St',\n",
       "       'San Francisco Public Library (Grove St at Hyde St)',\n",
       "       'Bancroft Way at Telegraph Ave', '19th Street BART Station',\n",
       "       '18th St at Noe St', 'Hyde St at Post St', '24th St at Market St',\n",
       "       'Vine St at Shattuck Ave',\n",
       "       'San Francisco Caltrain (Townsend St at 4th St)',\n",
       "       'Valencia St at Clinton Park',\n",
       "       'Union Square (Powell St at Post St)', 'Broderick St at Oak St',\n",
       "       'San Francisco Caltrain Station 2  (Townsend St at 4th St)',\n",
       "       'North Berkeley BART Station', 'Downtown Berkeley BART',\n",
       "       'Channing Way at Shattuck Ave', 'Fell St at Stanyan St',\n",
       "       'San Salvador St at 9th St', 'Marston Campbell Park',\n",
       "       'Oregon St at Adeline St', '11th St at Natoma St',\n",
       "       'Harrison St at 20th St', 'Haste St at College Ave',\n",
       "       '24th St at Bartlett St', 'Sanchez St at 15th St',\n",
       "       'Telegraph Ave at 19th St',\n",
       "       'Powell St BART Station (Market St at 5th St)',\n",
       "       'Jersey St at Castro St', 'Pierce St at Haight St',\n",
       "       'MacArthur BART Station', 'El Embarcadero at Grand Ave',\n",
       "       '23rd St at San Bruno Ave', 'Golden Gate Ave at Hyde St',\n",
       "       'S Van Ness Ave at Market St', 'Jackson Playground',\n",
       "       'San Fernando St at 7th St', 'West St at University Ave',\n",
       "       'Myrtle St at Polk St', 'Woolsey St at Sacramento St',\n",
       "       'Townsend St at 7th St', 'Harrison St at 17th St',\n",
       "       'West Oakland BART Station', 'Cyril Magnin St at Ellis St',\n",
       "       'Fulton St at Bancroft Way', '14th St at Mission St',\n",
       "       'San Pedro Square', 'Market St at Franklin St',\n",
       "       'Folsom St at 19th St', 'College Ave at Taft Ave',\n",
       "       'Rhode Island St at 17th St', 'Shattuck Ave at Hearst Ave',\n",
       "       'The Embarcadero at Vallejo St', 'The Embarcadero at Steuart St',\n",
       "       'Webster St at Grove St', 'Raymond Kimbell Playground',\n",
       "       'Victoria Manalo Draves Park', '20th St at Bryant St',\n",
       "       'S Park St at 3rd St', 'Lakeshore Ave at Trestle Glen Rd',\n",
       "       'Channing Way at San Pablo Ave', 'Mission Dolores Park',\n",
       "       'Lombard St at Columbus Ave', '17th St at Dolores St',\n",
       "       'Precita Park', 'Central Ave at Fell St', '4th St at Harrison St',\n",
       "       'Horton St at 40th St', 'Golden Gate Ave at Franklin St',\n",
       "       'Embarcadero BART Station (Beale St at Market St)',\n",
       "       '9th St at San Fernando St', '3rd St at Townsend St',\n",
       "       'McCoppin St at Valencia St', '13th St at Franklin St',\n",
       "       'Mission Bay Kids Park', 'Potrero Ave and Mariposa St',\n",
       "       'Emeryville Public Market', 'Union St at 10th St',\n",
       "       'Jackson St at 11th St', 'Broadway at Kearny',\n",
       "       'Paseo De San Antonio at 2nd St', 'Valencia St at Cesar Chavez St',\n",
       "       'Rockridge BART Station', '8th St at Brannan St',\n",
       "       'College Ave at Alcatraz Ave', '16th St Mission BART Station 2',\n",
       "       'San Jose Diridon Station', 'Masonic Ave at Turk St',\n",
       "       '17th & Folsom Street Park (17th St at Folsom St)',\n",
       "       'Grand Ave at Webster St', '7th St at Brannan St',\n",
       "       'Steuart St at Market St', 'Scott St at Golden Gate Ave',\n",
       "       'Parker St at Fulton St', 'Berkeley Civic Center',\n",
       "       'Clay St at Battery St', '11th St at Bryant St',\n",
       "       'Powell St BART Station (Market St at 4th St)',\n",
       "       'Doyle St at 59th St', '34th St at Telegraph Ave', 'Esprit Park',\n",
       "       'Emeryville Town Hall', 'Division St at Potrero Ave',\n",
       "       'Irwin St at 8th St', 'Pierce Ave at Market St',\n",
       "       'Howard St at Beale St', 'Washington St at 8th St',\n",
       "       'Dolores St at 15th St', 'Hearst Ave at Euclid Ave',\n",
       "       'Telegraph Ave at Ashby Ave', '8th St at Ringold St',\n",
       "       '14th St at Mandela Pkwy', 'Morrison Ave at Julian St',\n",
       "       'Commercial St at Montgomery St', 'Church St at Duboce Ave',\n",
       "       'Townsend St at 5th St', 'Valencia St at 24th St',\n",
       "       '16th St at Prosper St', '5th St at Virginia St',\n",
       "       \"Webster St at O'Farrell St\", 'Shattuck Ave at Telegraph Ave',\n",
       "       'Jackson St at 5th St', 'Berry St at 4th St',\n",
       "       'Telegraph Ave at Carleton St', 'Ellsworth St at Russell St',\n",
       "       'Adeline St at 40th St', 'Bay Pl at Vernon St',\n",
       "       'Russell St at College Ave', '22nd St Caltrain Station',\n",
       "       'Folsom St at 15th St', 'Snow Park', 'Ninth St at Heinz Ave',\n",
       "       '15th St at Potrero Ave', '23rd St at Tennessee St',\n",
       "       'McAllister St at Baker St', 'Bryant St at 2nd St',\n",
       "       'Mississippi St at 17th St', 'Ryland Park',\n",
       "       'Fountain Alley at S 2nd St', 'Ashby BART Station',\n",
       "       'Shattuck Ave at 51st St', 'Julian St at The Alameda',\n",
       "       '20th St at Dolores St', 'Broadway at Coronado Ave',\n",
       "       'Turk St at Fillmore St', 'Grand Ave at Santa Clara Ave',\n",
       "       'Eureka Valley Recreation Center', 'Parker Ave at McAllister St',\n",
       "       'Berry St at King St',\n",
       "       'Salesforce Transit Center (Natoma St at 2nd St)',\n",
       "       'San Antonio Park', 'Lakeside Dr at 14th St',\n",
       "       '16th St Mission BART', '2nd St at Townsend St',\n",
       "       'Stanford Ave at Hollis St', 'Broadway at 40th St',\n",
       "       'Mechanics Monument Plaza (Market St at Bush St)',\n",
       "       'Madison St at 17th St', 'Grand Ave at Perkins St',\n",
       "       'Garfield Square (25th St at Harrison St)', '53rd St at Hollis St',\n",
       "       '2nd St at Julian St', 'Telegraph Ave at Alcatraz Ave',\n",
       "       'San Francisco City Hall (Polk St at Grove St)',\n",
       "       '5th St at Brannan St', '10th St at Fallon St',\n",
       "       'Yerba Buena Center for the Arts (Howard St at 3rd St)',\n",
       "       '30th St at San Jose Ave', '29th St at Tiffany Ave',\n",
       "       'Webster St at 2nd St', 'Koshland Park', 'Jersey St at Church St',\n",
       "       'Santa Clara St at 7th St', 'Telegraph Ave at 58th St',\n",
       "       'Fruitvale BART Station', 'Addison St at Fourth St',\n",
       "       'Leavenworth St at Broadway', 'Telegraph Ave at 27th St',\n",
       "       'Potrero del Sol Park (25th St at Utah St)',\n",
       "       'Spear St at Folsom St', 'College Ave at Harwood Ave',\n",
       "       \"O'Farrell St at Divisadero St\", '1st St at Folsom St',\n",
       "       'Golden Gate Ave at Polk St', '5th St at San Salvador St',\n",
       "       '29th St at Church St', 'Alamo Square (Steiner St at Fulton St)',\n",
       "       'Autumn Parkway at Coleman Ave', 'Fulton St at Ashby Ave',\n",
       "       'Bryant St at 15th St', 'Howard St at 2nd St',\n",
       "       '19th St at Florida St', 'Market St at 45th St',\n",
       "       'Derby St at College Ave', 'Market St at Brockhurst St',\n",
       "       'California St at University Ave', 'MLK Jr Way at 14th St',\n",
       "       'Market St at 40th St', 'Julian St at 6th St', 'Cahill Park',\n",
       "       'San Jose City Hall', 'Virginia St at Shattuck Ave',\n",
       "       'Jack London Square', 'Webster St at 19th St',\n",
       "       '24th St at Chattanooga St', 'The Alameda at Bush St',\n",
       "       '49th St at Telegraph Ave', 'Broadway at 30th St',\n",
       "       'Bryant St at 6th St', 'Empire St at 1st St',\n",
       "       'China Basin St at 3rd St', '47th St at San Pablo Ave',\n",
       "       'Milvia St at Derby St', 'San Salvador St at 1st St',\n",
       "       '45th St at Manila', 'San Carlos St at Market St',\n",
       "       'San Pablo Ave at 27th St', 'Market St at Park St',\n",
       "       'Franklin St at 9th St', 'Almaden Blvd at San Fernando St',\n",
       "       'Oak St at 1st St', 'William St at 10th St',\n",
       "       'Isabella St at San Pablo Ave', 'Guerrero Park',\n",
       "       '10th St at University Ave', 'DeFremery Park',\n",
       "       'Fifth St at Delaware St', 'Williams Ave at 3rd St',\n",
       "       '4th Ave at E 12th St (Temporary Location)',\n",
       "       'Shattuck Ave at 55th St', '59th St at Horton St', 'SAP Center',\n",
       "       '37th St at West St', 'Almaden Blvd at Balbach St',\n",
       "       '65th St at Hollis St', 'Santa Clara St at Almaden Blvd',\n",
       "       'Ninth St at Parker St', 'Bushrod Park', 'Empire St at 7th St',\n",
       "       'Mendell St at Fairfax Ave', '16th St Depot',\n",
       "       'Newhall St at 3rd St', 'George St at 1st St',\n",
       "       'Mission St at 1st St', 'Duboce Park', 'Locust St at Grant St',\n",
       "       '32nd St at Adeline St', 'Mosswood Park',\n",
       "       'Delmas Ave and San Fernando St', 'Lane St at Revere Ave',\n",
       "       '2nd Ave at E 18th St', 'San Carlos St at 11th St',\n",
       "       'Williams Ave at Apollo St', 'MacArthur Blvd at Telegraph Ave',\n",
       "       'Bestor Art Park', 'College Ave at Bryant Ave',\n",
       "       'Miles Ave at Cavour St', 'Saint James Park',\n",
       "       '14th St at Filbert St', 'Foothill Blvd at Fruitvale Ave',\n",
       "       'Market St at 8th St', 'Backesto Park (Jackson St at 13th St)',\n",
       "       '10th Ave at E 15th St', 'Alcatraz Ave at Shattuck Ave',\n",
       "       '55th St at Telegraph Ave', 'Genoa St at 55th St',\n",
       "       'Dover St at 57th St', 'San Pablo Park',\n",
       "       '6th Ave at E 12th St (Temporary Location)', 'Taylor St at 9th St',\n",
       "       '27th St at MLK Jr Way', 'Foothill Blvd at Harrington Ave',\n",
       "       '23rd Ave at Foothill Blvd', 'San Pedro St at Hedding St',\n",
       "       '45th St at MLK Jr Way', '5th St at Taylor St',\n",
       "       'Foothill Blvd at 42nd Ave', 'Willow St at Vine St',\n",
       "       '26th Ave at International Blvd', 'Farnam St at Fruitvale Ave',\n",
       "       '21st Ave at International Blvd', '2nd St at Folsom St'],\n",
       "      dtype=object)"
      ]
     },
     "execution_count": 25,
     "metadata": {},
     "output_type": "execute_result"
    }
   ],
   "source": [
    "# Check sources\n",
    "bike.start_station_name.unique()"
   ]
  },
  {
   "cell_type": "code",
   "execution_count": 26,
   "metadata": {},
   "outputs": [
    {
     "data": {
      "image/png": "[encoded data removed]",
      "text/plain": [
       "<Figure size 720x360 with 1 Axes>"
      ]
     },
     "metadata": {
      "needs_background": "light"
     },
     "output_type": "display_data"
    }
   ],
   "source": [
    "# Create bar chart\n",
    "start = bike.start_station_name.value_counts().head(5).values\n",
    "bars = bike.start_station_name.value_counts().head(5).index\n",
    "# Replace 'at' with a line break\n",
    "bars = [x.replace( \" at\", ' at\\n') for x in bars]\n",
    "y_pos = np.arange(len(bars))\n",
    "plt.figure(figsize = (10,5))\n",
    "plt.barh(y_pos, start)\n",
    "plt.title(\"Five Most Popular Stations to Pick Up a Bike\")\n",
    "plt.xlabel('Station')\n",
    "plt.ylabel('Frequency')\n",
    "plt.yticks(y_pos, bars)\n",
    "plt.show();"
   ]
  },
  {
   "cell_type": "code",
   "execution_count": 27,
   "metadata": {},
   "outputs": [
    {
     "data": {
      "text/plain": [
       "Market St at 10th St                                         2.085715\n",
       "San Francisco Caltrain Station 2  (Townsend St at 4th St)    1.947963\n",
       "Berry St at 4th St                                           1.687320\n",
       "Montgomery St BART Station (Market St at 2nd St)             1.549568\n",
       "Powell St BART Station (Market St at 4th St)                 1.497554\n",
       "Name: start_station_name, dtype: float64"
      ]
     },
     "execution_count": 27,
     "metadata": {},
     "output_type": "execute_result"
    }
   ],
   "source": [
    "bike['start_station_name'].value_counts(normalize=True).head(5) * 100"
   ]
  },
  {
   "cell_type": "markdown",
   "metadata": {},
   "source": [
    "The most popular station users begin GoBike trips is at \"Market St. at 10th St.\"."
   ]
  },
  {
   "cell_type": "markdown",
   "metadata": {},
   "source": [
    "#### Least Popular Station to Start Trip"
   ]
  },
  {
   "cell_type": "code",
   "execution_count": 28,
   "metadata": {},
   "outputs": [
    {
     "data": {
      "image/png": "[encoded data removed]",
      "text/plain": [
       "<Figure size 720x360 with 1 Axes>"
      ]
     },
     "metadata": {
      "needs_background": "light"
     },
     "output_type": "display_data"
    }
   ],
   "source": [
    "# Create bar chart\n",
    "start = bike.start_station_name.value_counts().tail(5).values\n",
    "bars = bike.start_station_name.value_counts().tail(5).index\n",
    "# Replace 'at' with a line break\n",
    "bars = [x.replace( \" at\", ' at\\n') for x in bars]\n",
    "y_pos = np.arange(len(bars))\n",
    "plt.figure(figsize = (10,5))\n",
    "plt.barh(y_pos, start)\n",
    "plt.title(\"Five Least Popular Stations to Pick Up a Bike\")\n",
    "plt.xlabel('Station')\n",
    "plt.ylabel('Frequency')\n",
    "plt.yticks(y_pos, bars)\n",
    "plt.show();"
   ]
  },
  {
   "cell_type": "markdown",
   "metadata": {},
   "source": [
    "The least popular station users begin GoBike trips is at \"16th St Depot\"."
   ]
  },
  {
   "cell_type": "markdown",
   "metadata": {},
   "source": [
    "#### Least Common Station to End Trip"
   ]
  },
  {
   "cell_type": "code",
   "execution_count": 29,
   "metadata": {},
   "outputs": [
    {
     "data": {
      "text/plain": [
       "array(['Commercial St at Montgomery St',\n",
       "       'Powell St BART Station (Market St at 4th St)',\n",
       "       'Central Ave at Fell St', '10th Ave at E 15th St',\n",
       "       'Broadway at Kearny', 'San Jose Diridon Station',\n",
       "       'Valencia St at 21st St', 'Mission Playground',\n",
       "       'San Francisco Public Library (Grove St at Hyde St)',\n",
       "       'Bryant St at 2nd St', 'Channing Way at Shattuck Ave',\n",
       "       '8th St at Ringold St', 'Broderick St at Oak St',\n",
       "       'Potrero Ave and Mariposa St', 'Market St at Franklin St',\n",
       "       'Telegraph Ave at 23rd St', '17th St at Dolores St',\n",
       "       '6th Ave at E 12th St (Temporary Location)',\n",
       "       'McAllister St at Baker St', 'Telegraph Ave at Carleton St',\n",
       "       'Genoa St at 55th St', 'Grand Ave at Perkins St',\n",
       "       'San Francisco Ferry Building (Harry Bridges Plaza)',\n",
       "       'Folsom St at 9th St', 'Channing Way at San Pablo Ave',\n",
       "       'Shattuck Ave at Hearst Ave', '2nd St at Townsend St',\n",
       "       'Pierce St at Haight St',\n",
       "       'Potrero del Sol Park (25th St at Utah St)',\n",
       "       'Valencia St at 22nd St', 'Jackson Playground',\n",
       "       'Dolores St at 15th St', '29th St at Church St',\n",
       "       '19th St at Mission St', 'Bay Pl at Vernon St',\n",
       "       'Post St at Kearny St',\n",
       "       'Yerba Buena Center for the Arts (Howard St at 3rd St)',\n",
       "       '4th St at Mission Bay Blvd S', 'Father Alfred E Boeddeker Park',\n",
       "       'Market St at 10th St', '24th St at Chattanooga St',\n",
       "       'Pierce Ave at Market St', 'Fell St at Stanyan St',\n",
       "       '17th St at Valencia St', 'San Pablo Ave at 27th St',\n",
       "       'Howard St at Mary St', 'Victoria Manalo Draves Park',\n",
       "       'Davis St at Jackson St', 'Jersey St at Church St',\n",
       "       'Haste St at Telegraph Ave', 'Eureka Valley Recreation Center',\n",
       "       'Washington St at Kearny St', 'Grove St at Divisadero',\n",
       "       'Berry St at 4th St', 'Parker St at Fulton St',\n",
       "       'El Embarcadero at Grand Ave', 'Lake Merritt BART Station',\n",
       "       'Hyde St at Post St', '24th St at Market St',\n",
       "       '5th St at Brannan St', '24th St at Bartlett St',\n",
       "       'Townsend St at 5th St', 'Addison St at Fourth St',\n",
       "       'Broadway at Battery St', 'Market St at Dolores St',\n",
       "       '5th St at Virginia St', 'Marston Campbell Park',\n",
       "       'University Ave at Oxford St', 'Valencia St at 24th St',\n",
       "       'Valencia St at Cesar Chavez St', 'Ryland Park', 'Precita Park',\n",
       "       'Derby St at College Ave', 'Jersey St at Castro St',\n",
       "       '11th St at Natoma St', '45th St at MLK Jr Way',\n",
       "       'Valencia St at 16th St',\n",
       "       'San Francisco Caltrain Station 2  (Townsend St at 4th St)',\n",
       "       'Montgomery St BART Station (Market St at 2nd St)',\n",
       "       '18th St at Noe St', '37th St at West St', 'Newhall St at 3rd St',\n",
       "       'Haste St at College Ave', 'Cyril Magnin St at Ellis St',\n",
       "       'Beale St at Harrison St', 'Fulton St at Bancroft Way',\n",
       "       'San Fernando St at 4th St',\n",
       "       'Garfield Square (25th St at Harrison St)',\n",
       "       '29th St at Tiffany Ave', 'Bancroft Way at College Ave',\n",
       "       'Ashby BART Station', '11th St at Bryant St',\n",
       "       '14th St at Mandela Pkwy', 'Howard St at 8th St',\n",
       "       'Leavenworth St at Broadway', 'Locust St at Grant St',\n",
       "       'Lombard St at Columbus Ave', 'Sanchez St at 17th St',\n",
       "       '45th St at Manila', '23rd St at San Bruno Ave',\n",
       "       'Morrison Ave at Julian St', 'Sanchez St at 15th St',\n",
       "       'Koshland Park', 'Harrison St at 20th St', '2nd Ave at E 18th St',\n",
       "       'Steuart St at Market St', 'Church St at Duboce Ave',\n",
       "       'Page St at Scott St', 'Bancroft Way at Telegraph Ave',\n",
       "       'Mission Bay Kids Park', 'Folsom St at 3rd St',\n",
       "       'Valencia St at Clinton Park', 'Grand Ave at Santa Clara Ave',\n",
       "       '19th Street BART Station', 'Folsom St at 19th St',\n",
       "       'West Oakland BART Station', 'S Park St at 3rd St',\n",
       "       '5th St at Folsom',\n",
       "       'Embarcadero BART Station (Beale St at Market St)',\n",
       "       'Howard St at 2nd St', 'The Embarcadero at Sansome St',\n",
       "       'Backesto Park (Jackson St at 13th St)', 'Esprit Park',\n",
       "       'Myrtle St at Polk St', 'Franklin Square', 'Empire St at 7th St',\n",
       "       'Lakeside Dr at 14th St', 'Laguna St at Hayes St',\n",
       "       '65th St at Hollis St', '4th St at 16th St',\n",
       "       '49th St at Telegraph Ave', '16th St Mission BART Station 2',\n",
       "       'Lane St at Revere Ave', 'MLK Jr Way at University Ave',\n",
       "       '2nd St at Julian St', 'Webster St at Grove St',\n",
       "       'Telegraph Ave at Ashby Ave', 'Bryant St at 6th St',\n",
       "       '20th St at Dolores St',\n",
       "       'Powell St BART Station (Market St at 5th St)',\n",
       "       'San Francisco Caltrain (Townsend St at 4th St)',\n",
       "       '8th St at Brannan St', 'Downtown Berkeley BART',\n",
       "       'North Berkeley BART Station', 'Turk St at Fillmore St',\n",
       "       'Woolsey St at Sacramento St', '4th St at Harrison St',\n",
       "       'The Embarcadero at Bryant St', \"O'Farrell St at Divisadero St\",\n",
       "       'Grove St at Masonic Ave', 'Hubbell St at 16th St',\n",
       "       'Civic Center/UN Plaza BART Station (Market St at McAllister St)',\n",
       "       '3rd St at Townsend St', 'Fountain Alley at S 2nd St',\n",
       "       'China Basin St at 3rd St', '59th St at Horton St',\n",
       "       'Mission Dolores Park', 'San Carlos St at 11th St',\n",
       "       'Jackson St at 11th St', '22nd St Caltrain Station',\n",
       "       'Townsend St at 7th St', '7th St at Brannan St',\n",
       "       'Webster St at 2nd St', 'Ellsworth St at Russell St',\n",
       "       \"Webster St at O'Farrell St\", 'Harmon St at Adeline St',\n",
       "       '1st St at Folsom St', 'Vine St at Shattuck Ave',\n",
       "       'Stanford Ave at Hollis St', 'Jones St at Post St',\n",
       "       'West St at University Ave', 'Paseo De San Antonio at 2nd St',\n",
       "       'Duboce Park', 'The Embarcadero at Steuart St',\n",
       "       'Russell St at College Ave', 'Golden Gate Ave at Hyde St',\n",
       "       'Berkeley Civic Center', '47th St at San Pablo Ave',\n",
       "       'George St at 1st St', '53rd St at Hollis St',\n",
       "       'West St at 40th St', '15th St at Potrero Ave',\n",
       "       'Division St at Potrero Ave', 'San Pablo Ave at MLK Jr Way',\n",
       "       'Jackson St at 5th St', 'Union Square (Powell St at Post St)',\n",
       "       '4th Ave at E 12th St (Temporary Location)', 'Bushrod Park',\n",
       "       'Rhode Island St at 17th St', 'Folsom St at 13th St',\n",
       "       'Virginia St at Shattuck Ave', '16th St Mission BART',\n",
       "       'Lakeshore Ave at Trestle Glen Rd', 'Masonic Ave at Turk St',\n",
       "       'Harrison St at 17th St', 'McCoppin St at Valencia St',\n",
       "       '17th & Folsom Street Park (17th St at Folsom St)',\n",
       "       '10th St at Fallon St', '34th St at Telegraph Ave',\n",
       "       'The Alameda at Bush St', '9th St at San Fernando St',\n",
       "       '20th St at Bryant St', 'Howard St at Beale St',\n",
       "       'Cesar Chavez St at Dolores St', '55th St at Telegraph Ave',\n",
       "       'S Van Ness Ave at Market St', 'Scott St at Golden Gate Ave',\n",
       "       '14th St at Mission St', 'Mississippi St at 17th St',\n",
       "       'Alamo Square (Steiner St at Fulton St)',\n",
       "       'Shattuck Ave at 51st St', 'MacArthur BART Station',\n",
       "       'Madison St at 17th St', 'Horton St at 40th St',\n",
       "       'Hearst Ave at Euclid Ave', 'Folsom St at 15th St',\n",
       "       'Alcatraz Ave at Shattuck Ave', 'San Fernando St at 7th St',\n",
       "       'MLK Jr Way at 14th St', 'Milvia St at Derby St',\n",
       "       'College Ave at Alcatraz Ave', 'Washington St at 8th St',\n",
       "       'Guerrero Park', 'Oregon St at Adeline St',\n",
       "       'Parker Ave at McAllister St', '23rd St at Tennessee St',\n",
       "       'Clay St at Battery St', 'Broadway at 40th St',\n",
       "       'Salesforce Transit Center (Natoma St at 2nd St)',\n",
       "       'Telegraph Ave at 19th St', 'Emeryville Public Market',\n",
       "       'Golden Gate Ave at Polk St', 'Telegraph Ave at 58th St',\n",
       "       'Foothill Blvd at Harrington Ave', 'The Embarcadero at Vallejo St',\n",
       "       '16th St at Prosper St', 'Berry St at King St',\n",
       "       'Broadway at Coronado Ave', 'Market St at 45th St',\n",
       "       'Mechanics Monument Plaza (Market St at Bush St)',\n",
       "       'Dover St at 57th St', '19th St at Florida St',\n",
       "       'Miles Ave at Cavour St', 'Rockridge BART Station',\n",
       "       'Fifth St at Delaware St', 'College Ave at Harwood Ave',\n",
       "       'California St at University Ave', '5th St at San Salvador St',\n",
       "       'Mosswood Park', 'William St at 10th St', 'Union St at 10th St',\n",
       "       '5th St at Taylor St', 'Julian St at The Alameda',\n",
       "       'Irwin St at 8th St', 'Market St at Brockhurst St',\n",
       "       'Adeline St at 40th St', '30th St at San Jose Ave',\n",
       "       'Spear St at Folsom St', '27th St at MLK Jr Way',\n",
       "       'San Francisco City Hall (Polk St at Grove St)',\n",
       "       '22nd St at Dolores St', 'Frank H Ogawa Plaza',\n",
       "       'Shattuck Ave at 55th St', 'Golden Gate Ave at Franklin St',\n",
       "       'Broadway at 30th St', 'Bryant St at 15th St',\n",
       "       'Grand Ave at Webster St', 'Julian St at 6th St',\n",
       "       'Santa Clara St at 7th St', '14th St at Filbert St',\n",
       "       'Emeryville Town Hall', 'Cahill Park',\n",
       "       'Raymond Kimbell Playground', 'Autumn Parkway at Coleman Ave',\n",
       "       'Isabella St at San Pablo Ave', 'San Salvador St at 9th St',\n",
       "       'Telegraph Ave at 27th St', '13th St at Franklin St',\n",
       "       'Doyle St at 59th St', 'Jack London Square', 'SAP Center',\n",
       "       'Telegraph Ave at Alcatraz Ave', 'San Carlos St at Market St',\n",
       "       '10th St at University Ave', 'Ninth St at Heinz Ave',\n",
       "       'Market St at 40th St', '23rd Ave at Foothill Blvd',\n",
       "       'Bestor Art Park', '32nd St at Adeline St', 'DeFremery Park',\n",
       "       'San Pedro Square', 'San Salvador St at 1st St',\n",
       "       'Fulton St at Ashby Ave', 'Ninth St at Parker St',\n",
       "       'Taylor St at 9th St', 'Empire St at 1st St',\n",
       "       'Franklin St at 9th St', 'Webster St at 19th St', 'San Pablo Park',\n",
       "       'Shattuck Ave at Telegraph Ave', 'College Ave at Taft Ave',\n",
       "       'Market St at 8th St', 'Snow Park', 'San Antonio Park',\n",
       "       'San Jose City Hall', 'Delmas Ave and San Fernando St',\n",
       "       'Mendell St at Fairfax Ave', 'Santa Clara St at Almaden Blvd',\n",
       "       'College Ave at Bryant Ave', 'Foothill Blvd at Fruitvale Ave',\n",
       "       'Palm St at Willow St', 'Saint James Park', 'Market St at Park St',\n",
       "       'Almaden Blvd at Balbach St', 'Almaden Blvd at San Fernando St',\n",
       "       'Foothill Blvd at 42nd Ave', 'Fruitvale BART Station',\n",
       "       'MacArthur Blvd at Telegraph Ave', 'Williams Ave at Apollo St',\n",
       "       'Williams Ave at 3rd St', 'Mission St at 1st St',\n",
       "       'San Pedro St at Hedding St', 'Oak St at 1st St',\n",
       "       'Farnam St at Fruitvale Ave', '26th Ave at International Blvd',\n",
       "       '16th St Depot', 'Willow St at Vine St',\n",
       "       '21st Ave at International Blvd', '2nd St at Folsom St'],\n",
       "      dtype=object)"
      ]
     },
     "execution_count": 29,
     "metadata": {},
     "output_type": "execute_result"
    }
   ],
   "source": [
    "# Check sources\n",
    "bike.end_station_name.unique()"
   ]
  },
  {
   "cell_type": "code",
   "execution_count": 30,
   "metadata": {},
   "outputs": [
    {
     "data": {
      "image/png": "[encoded data removed]",
      "text/plain": [
       "<Figure size 720x360 with 1 Axes>"
      ]
     },
     "metadata": {
      "needs_background": "light"
     },
     "output_type": "display_data"
    }
   ],
   "source": [
    "# Create bar chart\n",
    "start = bike.end_station_name.value_counts().tail(5).values\n",
    "bars = bike.end_station_name.value_counts().tail(5).index\n",
    "# Replace 'at' with a line break\n",
    "bars = [x.replace( \" at\", ' at\\n') for x in bars]\n",
    "y_pos = np.arange(len(bars))\n",
    "plt.figure(figsize = (10,5))\n",
    "plt.barh(y_pos, start)\n",
    "plt.title(\"Five Least Common Stations to Drop Off a Bike\")\n",
    "plt.xlabel('Station')\n",
    "plt.ylabel('Frequency')\n",
    "plt.yticks(y_pos, bars)\n",
    "plt.show();"
   ]
  },
  {
   "cell_type": "markdown",
   "metadata": {},
   "source": [
    "The least common station for GoBike users to end their trips is at \"Willow St. at Vine St.\"."
   ]
  },
  {
   "cell_type": "markdown",
   "metadata": {},
   "source": [
    "#### How long does the average trip take by gender?"
   ]
  },
  {
   "cell_type": "code",
   "execution_count": 31,
   "metadata": {},
   "outputs": [
    {
     "data": {
      "image/png": "[encoded data removed]",
      "text/plain": [
       "<Figure size 720x360 with 1 Axes>"
      ]
     },
     "metadata": {
      "needs_background": "light"
     },
     "output_type": "display_data"
    }
   ],
   "source": [
    "pd.DataFrame(bike.groupby('member_gender').mean()).reset_index().plot.bar(x='member_gender', y = 'duration_mins', figsize= (10,5))\n",
    "plt.xlabel('Gender')\n",
    "plt.ylabel('Duration (minutes)')\n",
    "plt.title('Averge GoBike trip duration by gender')\n",
    "plt.legend('',frameon=False)\n",
    "plt.xticks(rotation = 0, ha = 'center');"
   ]
  },
  {
   "cell_type": "markdown",
   "metadata": {},
   "source": [
    "The average trip duration for women is just over 12 minutes. The average trip duration for men is just over 10 minutes. Unfortunately users identifying as \"Other\" skews our results."
   ]
  },
  {
   "cell_type": "markdown",
   "metadata": {},
   "source": [
    "#### When are most trips taken in terms of time of day and day of the week?"
   ]
  },
  {
   "cell_type": "markdown",
   "metadata": {},
   "source": [
    "#### Most popular time of day for GoBike trips"
   ]
  },
  {
   "cell_type": "code",
   "execution_count": 32,
   "metadata": {},
   "outputs": [
    {
     "data": {
      "image/png": "[encoded data removed]",
      "text/plain": [
       "<Figure size 432x288 with 1 Axes>"
      ]
     },
     "metadata": {
      "needs_background": "light"
     },
     "output_type": "display_data"
    }
   ],
   "source": [
    "# Most popular time of day for trips\n",
    "start_hour = bike.start_time.dt.hour\n",
    "# counts = start_hour.value_counts()\n",
    "sns.countplot(x = start_hour, color = 'blue')\n",
    "plt.xlabel('Hours (24-hour)')\n",
    "plt.ylabel('Count')\n",
    "plt.title(\"GoBike User Start Times by Hour\");"
   ]
  },
  {
   "cell_type": "markdown",
   "metadata": {},
   "source": [
    "GoBike users start trips most frequently at 8am and 5pm. Based on this data we can surmise most GoBike users are commuting to/from work."
   ]
  },
  {
   "cell_type": "markdown",
   "metadata": {},
   "source": [
    "#### Most common day of the week for GoBike users"
   ]
  },
  {
   "cell_type": "code",
   "execution_count": 33,
   "metadata": {},
   "outputs": [
    {
     "data": {
      "image/png": "[encoded data removed]",
      "text/plain": [
       "<Figure size 432x288 with 1 Axes>"
      ]
     },
     "metadata": {
      "needs_background": "light"
     },
     "output_type": "display_data"
    }
   ],
   "source": [
    "# Most common day of the week\n",
    "start_weekday = bike.start_time.dt.weekday\n",
    "sns.countplot(x = start_weekday, color = 'blue')\n",
    "plt.xlabel('Day of the Week')\n",
    "plt.ylabel('Count')\n",
    "plt.xticks([0,1,2,3,4,5,6], ['Mon','Tue','Wed','Thu','Fri','Sat', 'Sun'])\n",
    "plt.title(\"GoBike User Trips by Day\");"
   ]
  },
  {
   "cell_type": "markdown",
   "metadata": {},
   "source": [
    "The most common day of the week for GoBike users to take a trip was Thursday."
   ]
  },
  {
   "cell_type": "markdown",
   "metadata": {},
   "source": [
    "#### NOTE\n",
    "\n",
    "While investigating the GoBike usage differences between genders, there is an outlier with users identifying as \"Other\" which skews our results when trying to determine trip duration specifically."
   ]
  },
  {
   "cell_type": "markdown",
   "metadata": {},
   "source": [
    "### Bivariate Exploration\n",
    "Investigate relationships between pairs of variables in your data."
   ]
  },
  {
   "cell_type": "markdown",
   "metadata": {},
   "source": [
    "#### Does the above univariate exploration depend on if a user is a subscriber or customer?"
   ]
  },
  {
   "cell_type": "markdown",
   "metadata": {},
   "source": [
    "#### Gender by user type"
   ]
  },
  {
   "cell_type": "code",
   "execution_count": 34,
   "metadata": {},
   "outputs": [
    {
     "data": {
      "image/png": "[encoded data removed]",
      "text/plain": [
       "<Figure size 432x288 with 1 Axes>"
      ]
     },
     "metadata": {
      "needs_background": "light"
     },
     "output_type": "display_data"
    }
   ],
   "source": [
    "# Gender by user type\n",
    "sns.countplot(data = bike, x = 'member_gender', hue = 'user_type')\n",
    "plt.xlabel('Gender')\n",
    "plt.ylabel('Count')\n",
    "plt.legend()\n",
    "plt.title(\"Distribution of Gender by User Type\");"
   ]
  },
  {
   "cell_type": "markdown",
   "metadata": {},
   "source": [
    "It appears as though the majority of subscribers to GoBike are male."
   ]
  },
  {
   "cell_type": "markdown",
   "metadata": {},
   "source": [
    "#### Age group by user type"
   ]
  },
  {
   "cell_type": "code",
   "execution_count": 35,
   "metadata": {},
   "outputs": [
    {
     "data": {
      "image/png": "[encoded data removed]",
      "text/plain": [
       "<Figure size 432x288 with 1 Axes>"
      ]
     },
     "metadata": {
      "needs_background": "light"
     },
     "output_type": "display_data"
    }
   ],
   "source": [
    "# Age group by user type\n",
    "sns.countplot(data = bike, x = 'age_group', hue = 'user_type')\n",
    "plt.xlabel('Age Group')\n",
    "plt.ylabel('Count')\n",
    "plt.legend()\n",
    "plt.title(\"Distribution of Age Group by User Type\");"
   ]
  },
  {
   "cell_type": "markdown",
   "metadata": {},
   "source": [
    "The age group with the most amount of GoBike subscribers is between 18-35 years old."
   ]
  },
  {
   "cell_type": "markdown",
   "metadata": {},
   "source": [
    "#### Trip duration by age group"
   ]
  },
  {
   "cell_type": "code",
   "execution_count": 36,
   "metadata": {},
   "outputs": [
    {
     "data": {
      "image/png": "[encoded data removed]",
      "text/plain": [
       "<Figure size 432x288 with 1 Axes>"
      ]
     },
     "metadata": {
      "needs_background": "light"
     },
     "output_type": "display_data"
    }
   ],
   "source": [
    "# Trip duration by age group\n",
    "sns.boxplot(data = bike, x = 'age_group', y = 'duration_mins')\n",
    "plt.xlabel('Age Group')\n",
    "plt.ylabel('Duration (minutes)')\n",
    "plt.title(\"Averge duration of GoBike trips by Age Group\");"
   ]
  },
  {
   "cell_type": "code",
   "execution_count": 37,
   "metadata": {},
   "outputs": [
    {
     "data": {
      "text/plain": [
       "age_group\n",
       "18-35    11.155680\n",
       "36-55    11.281254\n",
       "56-75    12.236097\n",
       "Name: duration_mins, dtype: float64"
      ]
     },
     "execution_count": 37,
     "metadata": {},
     "output_type": "execute_result"
    }
   ],
   "source": [
    "bike.groupby(\"age_group\").duration_mins.mean()"
   ]
  },
  {
   "cell_type": "markdown",
   "metadata": {},
   "source": [
    "We can see the trip duration for the older age group of 56-75 has the largest gap in time. Their trips are either short or long."
   ]
  },
  {
   "cell_type": "markdown",
   "metadata": {},
   "source": [
    "#### Trip duration by user type"
   ]
  },
  {
   "cell_type": "code",
   "execution_count": 38,
   "metadata": {},
   "outputs": [
    {
     "data": {
      "image/png": "[encoded data removed]",
      "text/plain": [
       "<Figure size 432x288 with 1 Axes>"
      ]
     },
     "metadata": {
      "needs_background": "light"
     },
     "output_type": "display_data"
    }
   ],
   "source": [
    "# Trip duration by user type\n",
    "sns.boxplot(data = bike, x = 'user_type',y = 'duration_mins')\n",
    "plt.xlabel('User Type')\n",
    "plt.ylabel('Duration (minutes)')\n",
    "plt.title(\"Average duration of GoBike trips by User Type\")\n",
    "# Exclude the top 1 percent\n",
    "plt.ylim(0, bike.duration_mins.quantile(0.99));"
   ]
  },
  {
   "cell_type": "code",
   "execution_count": 39,
   "metadata": {},
   "outputs": [
    {
     "data": {
      "text/plain": [
       "user_type\n",
       "Customer      21.350477\n",
       "Subscriber    10.184132\n",
       "Name: duration_mins, dtype: float64"
      ]
     },
     "execution_count": 39,
     "metadata": {},
     "output_type": "execute_result"
    }
   ],
   "source": [
    "bike.groupby(\"user_type\").duration_mins.mean()"
   ]
  },
  {
   "cell_type": "markdown",
   "metadata": {},
   "source": [
    "The average duration of a customer trip is 21 minutes. This is higher than the subscriber average of 10 minutes. This could be due to more variability of customers who are out of immediate range of GoBike stations. Comparatively, it would seem that subscribers are either closer to GoBike stations and/or have a fixed routine that they use the bikes for."
   ]
  },
  {
   "cell_type": "markdown",
   "metadata": {},
   "source": [
    "#### Trip duration by gender"
   ]
  },
  {
   "cell_type": "code",
   "execution_count": 40,
   "metadata": {},
   "outputs": [
    {
     "data": {
      "image/png": "[encoded data removed]",
      "text/plain": [
       "<Figure size 432x288 with 1 Axes>"
      ]
     },
     "metadata": {
      "needs_background": "light"
     },
     "output_type": "display_data"
    }
   ],
   "source": [
    "# Trip duration by gender\n",
    "sns.boxplot(data = bike, x = 'member_gender', y = 'duration_mins')\n",
    "plt.xlabel('Gender')\n",
    "plt.ylabel('Duration (minutes)')\n",
    "plt.title(\"Average duration of GoBike trips by Gender\");"
   ]
  },
  {
   "cell_type": "code",
   "execution_count": 41,
   "metadata": {},
   "outputs": [
    {
     "data": {
      "image/png": "[encoded data removed]",
      "text/plain": [
       "<Figure size 432x288 with 1 Axes>"
      ]
     },
     "metadata": {
      "needs_background": "light"
     },
     "output_type": "display_data"
    }
   ],
   "source": [
    "# Alt box plot of trip duration by gender\n",
    "sns.boxplot(data = bike, x = 'member_gender', y = 'duration_mins')\n",
    "plt.xlabel('Gender')\n",
    "plt.ylabel('Duration (minutes)')\n",
    "plt.title(\"Average duration of GoBike trips by Gender\")\n",
    "# Exclude the top 1 percent\n",
    "plt.ylim(0, bike.duration_mins.quantile(0.99));"
   ]
  },
  {
   "cell_type": "code",
   "execution_count": 42,
   "metadata": {},
   "outputs": [
    {
     "data": {
      "text/plain": [
       "member_gender\n",
       "Female    12.487955\n",
       "Male      10.714958\n",
       "Other     16.134631\n",
       "Name: duration_mins, dtype: float64"
      ]
     },
     "execution_count": 42,
     "metadata": {},
     "output_type": "execute_result"
    }
   ],
   "source": [
    "bike.groupby('member_gender').duration_mins.mean()"
   ]
  },
  {
   "cell_type": "markdown",
   "metadata": {},
   "source": [
    "As mentioned previously, the \"Other\" category skews our data. However it remains useful. On average, women take longer trips than men by just more than 2 minutes. Based on previous analyses above, we know the majority of \"Other\" are subscribers but are unclear of their age group which might be insightful when doing a multivariate exploration."
   ]
  },
  {
   "cell_type": "markdown",
   "metadata": {},
   "source": [
    "#### Most common time of day for trips by gender"
   ]
  },
  {
   "cell_type": "code",
   "execution_count": 43,
   "metadata": {},
   "outputs": [
    {
     "data": {
      "image/png": "[encoded data removed]",
      "text/plain": [
       "<Figure size 360x360 with 1 Axes>"
      ]
     },
     "metadata": {
      "needs_background": "light"
     },
     "output_type": "display_data"
    }
   ],
   "source": [
    "# Gender time of day for trips comparison\n",
    "start_hour = bike.start_time.dt.hour\n",
    "sns.catplot(x = start_hour, y = 'member_gender', data = bike, kind = 'violin')\n",
    "plt.xlabel('Hours (24-hour)')\n",
    "plt.ylabel('Gender')\n",
    "plt.title(\"Time of day for trips by gender\");"
   ]
  },
  {
   "cell_type": "markdown",
   "metadata": {},
   "source": [
    "As we saw in a previous analysis, both genders have trip start times that coincide with AM and PM commutes. For men, there appear to be small increases in usage throughout the middle of the day. Perhaps to run errands or grab lunch."
   ]
  },
  {
   "cell_type": "markdown",
   "metadata": {},
   "source": [
    "#### NOTE\n",
    "The relationships observed in the bivariate exploration were interesting. The basis of this analysis was to see the impact of the data when the relationship to user type was introduced. The largest discrepancies were regarding trip duration between customers and subscribers, as well as how age group or gender might impact trip duration. The data showed that trip duration is much longer with customers, not subscribers. In addition, the oldest age group of 56-75 take the longest trips averaging just over 12 minutes.\n",
    "\n",
    "As mentioned previously, there are outliers when comparing gender data due to the category of \"other\". Based on both the univariate and bivariate explorations above, we know that \"other\" takes longer trips and the majority of them are subscribers. This makes me curious as to the age group of this mysterious category and how it relates to what we already know. I plan to explore this more in the next section."
   ]
  },
  {
   "cell_type": "markdown",
   "metadata": {},
   "source": [
    "### Multivariate Exploration\n",
    "Create plots of three or more variables to investigate your data even further."
   ]
  },
  {
   "cell_type": "code",
   "execution_count": 44,
   "metadata": {},
   "outputs": [
    {
     "data": {
      "image/png": "[encoded data removed]",
      "text/plain": [
       "<Figure size 432x288 with 2 Axes>"
      ]
     },
     "metadata": {
      "needs_background": "light"
     },
     "output_type": "display_data"
    }
   ],
   "source": [
    "# Heat map of gender, age group by average duration (color palettes)\n",
    "cat_means = bike.groupby(['age_group', 'member_gender']).mean()['duration_mins']\n",
    "cat_means = cat_means.reset_index(name = 'mean_duration_mins')\n",
    "cat_means = cat_means.pivot(index = 'member_gender', columns = 'age_group',\n",
    "                            values = 'mean_duration_mins')\n",
    "sns.heatmap(cat_means, annot = True, fmt = '.3f',\n",
    "           cbar_kws = {'label' : 'Duration (minutes)'});\n",
    "\n",
    "plt.xlabel('Age Group')\n",
    "plt.ylabel('Gender')\n",
    "plt.title(\"Average trip duration by age group and gender\");"
   ]
  },
  {
   "cell_type": "markdown",
   "metadata": {},
   "source": [
    "#### NOTE \n",
    "\n",
    "The heatmap above was very informative in solidifying our analysis. While it was clear in earlier explorations that women take longer GoBike trips, it is interesting to see the age group that takes the longest for women is 56-75. For men, the age group that takes the longest average rides is 36-55. \n",
    "\n",
    "In addition, the \"other\" category was a mystery throughout this analysis. While it was known that the majority of \"other\" are GoBike subscribers, there was not much else known about their habits and use with the bike sharing system. By doing a multivariate exploration and being able to involve other variables such as age group, it became clear as to the categorization we can assign \"other\" and perhaps offer solutions to better aggregate their gender data in the future.\n",
    "\n",
    "We learned that \"other\" is comprised of mostly 18-35 year olds who take the longest trips out of all other categories. This is interesting for several reasons, one of which being that this is contrary to any conclusions made that older riders take longer trips. As well, it is known that younger generations are more conscious about gender diversity and inclusion. Therefore, it is possible the absence of additional options is causing users to select \"other\". An option would be for GoBike to remove \"other\" and add new gender options to their form in order to capture more data about their users. Some suggestions on what a final list might look like:\n",
    "* Male\n",
    "* Female\n",
    "* Non-Binary\n",
    "* Transgender\n",
    "* Gender Non-Conforming\n",
    "* Gender Not Listed Here\n",
    "* Prefer Not To Say"
   ]
  },
  {
   "cell_type": "markdown",
   "metadata": {},
   "source": [
    "<a id='conclusions'></a>\n",
    "## Conclusions"
   ]
  },
  {
   "cell_type": "markdown",
   "metadata": {},
   "source": [
    "The insights gathered from the analysis present some opportunities for GoBike to capitalize on:\n",
    "* Men are the majority of GoBike users so more resources can be allocated towards male subscribers or upselling male customers to become subscribers\n",
    "* Ensure there is enough supply of GoBikes during peak times of 8AM and 5PM. Consider a small surcharge during these times or when supply is low\n",
    "* Consider targeting the youngest age group of 18-35 \"other\" users who seem to take the longest trips. This could involve finding out what stations they start and end their trips at most frequently\n",
    "* Remove \"other\" and include additional gender options to allow for more finite analysis in the future"
   ]
  }
 ],
 "metadata": {
  "kernelspec": {
   "display_name": "Python 3",
   "language": "python",
   "name": "python3"
  },
  "language_info": {
   "codemirror_mode": {
    "name": "ipython",
    "version": 3
   },
   "file_extension": ".py",
   "mimetype": "text/x-python",
   "name": "python",
   "nbconvert_exporter": "python",
   "pygments_lexer": "ipython3",
   "version": "3.8.5"
  }
 },
 "nbformat": 4,
 "nbformat_minor": 4
}
